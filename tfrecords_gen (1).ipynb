{
 "cells": [
  {
   "cell_type": "code",
   "execution_count": 1,
   "metadata": {
    "collapsed": true,
    "deletable": true,
    "editable": true
   },
   "outputs": [],
   "source": [
    "import tensorflow as tf\n",
    "import numpy as np"
   ]
  },
  {
   "cell_type": "code",
   "execution_count": 3,
   "metadata": {
    "collapsed": true,
    "deletable": true,
    "editable": true
   },
   "outputs": [],
   "source": [
    "def _int64_feature(value):\n",
    "  return tf.train.Feature(int64_list=tf.train.Int64List(value=[value]))\n",
    "def _bytes_feature(value):\n",
    "  return tf.train.Feature(bytes_list=tf.train.BytesList(value=[value]))"
   ]
  },
  {
   "cell_type": "code",
   "execution_count": 4,
   "metadata": {
    "collapsed": false,
    "deletable": true,
    "editable": true
   },
   "outputs": [],
   "source": [
    "for i in np.arange(100):\n",
    "    myarr = np.load('../data/xC' + str(i) + '.npy')\n",
    "    lab = np.load('../data/labels' + str(i) + '.npy')[:,2]\n",
    "    tlen = np.load('../data/zC' + str(i) + '.npy')\n",
    "    tlen = tlen.astype(int)\n",
    "    train_filename = '../data/xC' + str(i) + '.tfrecord'  # address to save the TFRecords file\n",
    "    # open the TFRecords file\n",
    "    writer = tf.python_io.TFRecordWriter(train_filename)\n",
    "\n",
    "    # # Create a feature\n",
    "    # feature = {'train/label': _int64_feature(label),\n",
    "    #            'train/image': _bytes_feature(tf.compat.as_bytes(img.tostring()))}\n",
    "    for i in np.arange(np.shape(myarr)[0]):\n",
    "        pat_n = myarr[i]\n",
    "        lab_i = lab[i]\n",
    "        tlen_i = tlen[i]\n",
    "\n",
    "        # Create a feature\n",
    "        feature = {'train/label': _int64_feature(lab_i),\n",
    "                   'train/pat_n': _bytes_feature(tf.compat.as_bytes(pat_n.tostring())),\n",
    "                   'train/tlen': _int64_feature(tlen_i)}\n",
    "\n",
    "        # # Create an example protocol buffer\n",
    "        example = tf.train.Example(features=tf.train.Features(feature=feature))\n",
    "\n",
    "        # # Serialize to string and write on the file\n",
    "        writer.write(example.SerializeToString())\n",
    "\n",
    "    writer.close()\n"
   ]
  }
 ],
 "metadata": {
  "kernelspec": {
   "display_name": "Python 3",
   "language": "python",
   "name": "python3"
  },
  "language_info": {
   "codemirror_mode": {
    "name": "ipython",
    "version": 3
   },
   "file_extension": ".py",
   "mimetype": "text/x-python",
   "name": "python",
   "nbconvert_exporter": "python",
   "pygments_lexer": "ipython3",
   "version": "3.4.5"
  }
 },
 "nbformat": 4,
 "nbformat_minor": 2
}
