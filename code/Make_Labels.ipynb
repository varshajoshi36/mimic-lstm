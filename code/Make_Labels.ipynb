{
 "cells": [
  {
   "cell_type": "code",
   "execution_count": 5,
   "metadata": {
    "collapsed": false,
    "deletable": true,
    "editable": true
   },
   "outputs": [
    {
     "name": "stdout",
     "output_type": "stream",
     "text": [
      "Getting data...\n",
      "Creating labels...\n",
      "100.0% complete... complete.....\n",
      "Done!\n"
     ]
    }
   ],
   "source": [
    "from __future__ import print_function\n",
    "import os\n",
    "\n",
    "import numpy as np\n",
    "import pandas as pd\n",
    "\n",
    "def _overwrite_line(msg):\n",
    "    print(msg, end='\\r')\n",
    "\n",
    "\n",
    "\n",
    "# should be the directory of ADMISSIONS.csv\n",
    "data_dir = '/soe/dcjenkin/mimic3/data_full'\n",
    "\n",
    "print('Getting data...')\n",
    "\n",
    "data = pd.read_csv(os.path.join(data_dir, 'ADMISSIONS.csv'))\n",
    "\n",
    "# convert relevant date columns into datetimes\n",
    "for col in ['DISCHTIME','DEATHTIME']:\n",
    "    data[col] = pd.to_datetime(data[col])\n",
    "    \n",
    "# when a person is admitted more then once and dies, the deathtime is only\n",
    "# reflected in the last admittance, so get all admittances per patient and\n",
    "# generate the labels for each admittance wrt to the deathtime for that patient\n",
    "print('Creating labels...')\n",
    "data_grp_hadm_id = data.groupby(['HADM_ID'])\n",
    "\n",
    "cols = ['SUBJECT_ID','HADM_ID','IN_HOSPITAL','30_DAYS','1_YEAR']\n",
    "labels = pd.DataFrame(index=np.arange(0,len(data)), columns=cols)\n",
    "\n",
    "idx = 0\n",
    "for hadm_id, rows in data_grp_hadm_id:\n",
    "    _overwrite_line('{}% complete...'.format(round(idx/float(len(data)),4)*100))\n",
    "\n",
    "    # if this patient died get the time and set the labels\n",
    "    if sum(rows['DEATHTIME'].notnull()) > 0:\n",
    "        deathtime = pd.Timestamp(rows.loc[rows['DEATHTIME'].notnull(),['DEATHTIME']].values[0][0])\n",
    "        \n",
    "        for row in rows.iterrows():\n",
    "            r = row[1]\n",
    "            dischtime = r['DISCHTIME']\n",
    "            in_hospital = deathtime <= dischtime\n",
    "            days30 = (~in_hospital & (deathtime < (dischtime + np.timedelta64(30,'D')))) | in_hospital\n",
    "            years1 = (~in_hospital & ~days30 & (deathtime < (dischtime + np.timedelta64(365,'D')))) | days30 | in_hospital\n",
    "\n",
    "            labels.iloc[idx] = [r['SUBJECT_ID'], r['HADM_ID'], int(in_hospital), int(days30), int(years1)]\n",
    "            idx += 1\n",
    "        \n",
    "    # they lived! all zeros\n",
    "    else:\n",
    "        for row in rows.iterrows():\n",
    "            r = row[1]\n",
    "            labels.iloc[idx] = [r['SUBJECT_ID'], r['HADM_ID'], 0, 0, 0]\n",
    "            idx += 1\n",
    "\n",
    "if len(labels) != len(data):\n",
    "    print('\\nWARNING: We may have lost some data. data:{} labels:{}'.format(len(data),len(labels)) )\n",
    "np.save('labels.npy', labels.as_matrix())\n",
    "\n",
    "#labels.to_csv(os.path.join(data_dir,'LABELS.csv'))\n",
    "print('\\nDone!')\n"
   ]
  }
 ],
 "metadata": {
  "kernelspec": {
   "display_name": "Python 3",
   "language": "python",
   "name": "python3"
  },
  "language_info": {
   "codemirror_mode": {
    "name": "ipython",
    "version": 3
   },
   "file_extension": ".py",
   "mimetype": "text/x-python",
   "name": "python",
   "nbconvert_exporter": "python",
   "pygments_lexer": "ipython3",
   "version": "3.4.5"
  }
 },
 "nbformat": 4,
 "nbformat_minor": 2
}
